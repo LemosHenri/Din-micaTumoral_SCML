{
  "cells": [
    {
      "cell_type": "code",
      "execution_count": 1,
      "metadata": {
        "colab": {
          "base_uri": "https://localhost:8080/"
        },
        "id": "g4ff2nt6EdkS",
        "outputId": "652701e5-f1a1-4c5c-e8a5-35175711db04"
      },
      "outputs": [
        {
          "output_type": "stream",
          "name": "stdout",
          "text": [
            "Requirement already satisfied: numpy in /usr/local/lib/python3.10/dist-packages (1.26.4)\n",
            "Requirement already satisfied: matplotlib in /usr/local/lib/python3.10/dist-packages (3.8.0)\n",
            "Collecting deepxde\n",
            "  Downloading DeepXDE-1.12.2-py3-none-any.whl.metadata (12 kB)\n",
            "Requirement already satisfied: contourpy>=1.0.1 in /usr/local/lib/python3.10/dist-packages (from matplotlib) (1.3.1)\n",
            "Requirement already satisfied: cycler>=0.10 in /usr/local/lib/python3.10/dist-packages (from matplotlib) (0.12.1)\n",
            "Requirement already satisfied: fonttools>=4.22.0 in /usr/local/lib/python3.10/dist-packages (from matplotlib) (4.55.3)\n",
            "Requirement already satisfied: kiwisolver>=1.0.1 in /usr/local/lib/python3.10/dist-packages (from matplotlib) (1.4.7)\n",
            "Requirement already satisfied: packaging>=20.0 in /usr/local/lib/python3.10/dist-packages (from matplotlib) (24.2)\n",
            "Requirement already satisfied: pillow>=6.2.0 in /usr/local/lib/python3.10/dist-packages (from matplotlib) (11.0.0)\n",
            "Requirement already satisfied: pyparsing>=2.3.1 in /usr/local/lib/python3.10/dist-packages (from matplotlib) (3.2.0)\n",
            "Requirement already satisfied: python-dateutil>=2.7 in /usr/local/lib/python3.10/dist-packages (from matplotlib) (2.8.2)\n",
            "Requirement already satisfied: scikit-learn in /usr/local/lib/python3.10/dist-packages (from deepxde) (1.6.0)\n",
            "Collecting scikit-optimize>=0.9.0 (from deepxde)\n",
            "  Downloading scikit_optimize-0.10.2-py2.py3-none-any.whl.metadata (9.7 kB)\n",
            "Requirement already satisfied: scipy in /usr/local/lib/python3.10/dist-packages (from deepxde) (1.13.1)\n",
            "Requirement already satisfied: six>=1.5 in /usr/local/lib/python3.10/dist-packages (from python-dateutil>=2.7->matplotlib) (1.17.0)\n",
            "Requirement already satisfied: joblib>=0.11 in /usr/local/lib/python3.10/dist-packages (from scikit-optimize>=0.9.0->deepxde) (1.4.2)\n",
            "Collecting pyaml>=16.9 (from scikit-optimize>=0.9.0->deepxde)\n",
            "  Downloading pyaml-24.12.1-py3-none-any.whl.metadata (12 kB)\n",
            "Requirement already satisfied: threadpoolctl>=3.1.0 in /usr/local/lib/python3.10/dist-packages (from scikit-learn->deepxde) (3.5.0)\n",
            "Requirement already satisfied: PyYAML in /usr/local/lib/python3.10/dist-packages (from pyaml>=16.9->scikit-optimize>=0.9.0->deepxde) (6.0.2)\n",
            "Downloading DeepXDE-1.12.2-py3-none-any.whl (184 kB)\n",
            "\u001b[2K   \u001b[90m━━━━━━━━━━━━━━━━━━━━━━━━━━━━━━━━━━━━━━━━\u001b[0m \u001b[32m184.4/184.4 kB\u001b[0m \u001b[31m12.9 MB/s\u001b[0m eta \u001b[36m0:00:00\u001b[0m\n",
            "\u001b[?25hDownloading scikit_optimize-0.10.2-py2.py3-none-any.whl (107 kB)\n",
            "\u001b[2K   \u001b[90m━━━━━━━━━━━━━━━━━━━━━━━━━━━━━━━━━━━━━━━━\u001b[0m \u001b[32m107.8/107.8 kB\u001b[0m \u001b[31m9.1 MB/s\u001b[0m eta \u001b[36m0:00:00\u001b[0m\n",
            "\u001b[?25hDownloading pyaml-24.12.1-py3-none-any.whl (25 kB)\n",
            "Installing collected packages: pyaml, scikit-optimize, deepxde\n",
            "Successfully installed deepxde-1.12.2 pyaml-24.12.1 scikit-optimize-0.10.2\n"
          ]
        }
      ],
      "source": [
        "%pip install numpy matplotlib deepxde"
      ]
    },
    {
      "cell_type": "code",
      "execution_count": 5,
      "metadata": {
        "id": "6WaVvStTEcOS",
        "colab": {
          "base_uri": "https://localhost:8080/"
        },
        "outputId": "0efe8f56-5a21-4de4-9fd0-44b58bbf5ce9"
      },
      "outputs": [
        {
          "output_type": "stream",
          "name": "stdout",
          "text": [
            "No backend selected.\n",
            "Finding available backend...\n"
          ]
        },
        {
          "output_type": "stream",
          "name": "stderr",
          "text": [
            "Using backend: tensorflow.compat.v1\n",
            "Other supported backends: tensorflow, pytorch, jax, paddle.\n",
            "paddle supports more examples now and is recommended.\n",
            "WARNING:tensorflow:From /usr/local/lib/python3.10/dist-packages/tensorflow/python/compat/v2_compat.py:98: disable_resource_variables (from tensorflow.python.ops.resource_variables_toggle) is deprecated and will be removed in a future version.\n",
            "Instructions for updating:\n",
            "non-resource variables are not supported in the long term\n"
          ]
        },
        {
          "output_type": "stream",
          "name": "stdout",
          "text": [
            "Found tensorflow.compat.v1\n",
            "Setting the default backend to \"tensorflow.compat.v1\". You can change it in the ~/.deepxde/config.json file or export the DDE_BACKEND environment variable. Valid options are: tensorflow.compat.v1, tensorflow, pytorch, jax, paddle (all lowercase)\n"
          ]
        },
        {
          "output_type": "stream",
          "name": "stderr",
          "text": [
            "Enable just-in-time compilation with XLA.\n",
            "\n"
          ]
        }
      ],
      "source": [
        "import numpy as np\n",
        "import matplotlib.pyplot as plt\n",
        "import deepxde as dde"
      ]
    },
    {
      "cell_type": "code",
      "execution_count": 6,
      "metadata": {
        "id": "llrtitDnSndk"
      },
      "outputs": [],
      "source": [
        "#dde.backend.set_default_backend('pytorch')\n",
        "#%cat ~/.deepxde/config.json"
      ]
    },
    {
      "cell_type": "code",
      "execution_count": 7,
      "metadata": {
        "id": "pMHg8qyIFHmS"
      },
      "outputs": [],
      "source": [
        "#PARÂMETROS DOMINIO\n",
        "L = 20\n",
        "TF = 80\n",
        "\n",
        "#PARAMETROS\n",
        "D = 0.0139\n",
        "P = 0.0453"
      ]
    },
    {
      "cell_type": "code",
      "execution_count": null,
      "metadata": {
        "id": "HzsYnbNDavbg",
        "colab": {
          "base_uri": "https://localhost:8080/"
        },
        "outputId": "c27b9272-822f-4240-a725-224b7242bf8d"
      },
      "outputs": [
        {
          "output_type": "stream",
          "name": "stdout",
          "text": [
            "Warning: 1000 points required, but 1003 points sampled.\n",
            "Compiling model...\n",
            "Building feed-forward neural network...\n",
            "'build' took 0.054439 s\n",
            "\n",
            "'compile' took 0.714612 s\n",
            "\n",
            "Training model...\n",
            "\n",
            "Step      Train loss                        Test loss                         Test metric\n",
            "0         [3.18e-01, 1.65e-01, 1.34e-02]    [3.87e-01, 1.65e-01, 1.34e-02]    []  \n",
            "1000      [2.09e-02, 1.64e-02, 1.31e-04]    [3.71e-02, 1.64e-02, 1.31e-04]    []  \n",
            "2000      [2.15e-02, 6.93e-03, 4.36e-04]    [3.98e-02, 6.93e-03, 4.36e-04]    []  \n",
            "3000      [2.12e-02, 6.71e-03, 4.29e-04]    [3.90e-02, 6.71e-03, 4.29e-04]    []  \n",
            "4000      [2.05e-02, 6.08e-03, 2.26e-05]    [3.80e-02, 6.08e-03, 2.26e-05]    []  \n",
            "5000      [1.78e-02, 6.60e-03, 2.80e-04]    [3.27e-02, 6.60e-03, 2.80e-04]    []  \n",
            "6000      [1.52e-02, 4.28e-03, 3.08e-05]    [2.77e-02, 4.28e-03, 3.08e-05]    []  \n",
            "7000      [1.19e-02, 3.75e-03, 2.03e-05]    [2.16e-02, 3.75e-03, 2.03e-05]    []  \n",
            "8000      [1.34e-02, 3.33e-03, 5.85e-04]    [2.46e-02, 3.33e-03, 5.85e-04]    []  \n",
            "9000      [5.85e-03, 1.72e-03, 5.26e-06]    [1.50e-02, 1.72e-03, 5.26e-06]    []  \n",
            "10000     [7.23e-03, 1.73e-03, 1.56e-04]    [1.55e-02, 1.73e-03, 1.56e-04]    []  \n",
            "11000     [2.02e-03, 5.38e-04, 2.98e-06]    [1.39e-02, 5.38e-04, 2.98e-06]    []  \n",
            "12000     [1.81e-03, 4.60e-04, 3.82e-05]    [1.68e-02, 4.60e-04, 3.82e-05]    []  \n",
            "13000     [1.20e-03, 3.88e-04, 1.21e-04]    [2.05e-02, 3.88e-04, 1.21e-04]    []  \n",
            "14000     [4.04e-04, 2.08e-04, 1.72e-05]    [2.21e-02, 2.08e-04, 1.72e-05]    []  \n",
            "15000     [3.37e-04, 7.17e-05, 2.27e-05]    [2.50e-02, 7.17e-05, 2.27e-05]    []  \n",
            "16000     [1.54e-04, 2.16e-05, 7.06e-06]    [1.85e-02, 2.16e-05, 7.06e-06]    []  \n",
            "17000     [1.99e-04, 4.25e-05, 1.41e-05]    [1.76e-02, 4.25e-05, 1.41e-05]    []  \n",
            "18000     [3.77e-04, 7.00e-05, 9.36e-06]    [1.45e-02, 7.00e-05, 9.36e-06]    []  \n",
            "19000     [1.83e-04, 6.95e-05, 2.58e-05]    [1.66e-02, 6.95e-05, 2.58e-05]    []  \n",
            "20000     [8.24e-05, 3.04e-05, 7.80e-06]    [3.65e-03, 3.04e-05, 7.80e-06]    []  \n",
            "21000     [3.01e-05, 5.07e-06, 1.22e-06]    [1.65e-02, 5.07e-06, 1.22e-06]    []  \n",
            "22000     [7.73e-05, 5.33e-06, 6.92e-06]    [1.48e-02, 5.33e-06, 6.92e-06]    []  \n",
            "23000     [1.52e-04, 6.57e-05, 2.17e-05]    [1.53e-02, 6.57e-05, 2.17e-05]    []  \n",
            "24000     [4.44e-04, 1.56e-04, 1.83e-05]    [1.07e-02, 1.56e-04, 1.83e-05]    []  \n",
            "25000     [6.91e-05, 9.84e-06, 1.11e-05]    [1.39e-02, 9.84e-06, 1.11e-05]    []  \n",
            "26000     [2.58e-04, 1.12e-04, 4.01e-06]    [8.15e-03, 1.12e-04, 4.01e-06]    []  \n",
            "27000     [7.03e-05, 2.90e-05, 4.66e-06]    [4.33e-03, 2.90e-05, 4.66e-06]    []  \n",
            "28000     [5.15e-04, 2.33e-04, 8.15e-06]    [6.55e-03, 2.33e-04, 8.15e-06]    []  \n",
            "29000     [5.04e-05, 1.20e-05, 5.31e-07]    [8.84e-03, 1.20e-05, 5.31e-07]    []  \n",
            "30000     [7.30e-05, 1.65e-05, 1.96e-06]    [9.56e-03, 1.65e-05, 1.96e-06]    []  \n",
            "31000     [6.15e-05, 1.34e-05, 1.57e-06]    [9.23e-03, 1.34e-05, 1.57e-06]    []  \n",
            "32000     [4.36e-05, 2.69e-05, 1.24e-06]    [1.05e-02, 2.69e-05, 1.24e-06]    []  \n",
            "33000     [8.66e-05, 1.93e-05, 2.35e-06]    [9.81e-03, 1.93e-05, 2.35e-06]    []  \n",
            "34000     [2.26e-04, 1.59e-04, 7.18e-06]    [9.78e-03, 1.59e-04, 7.18e-06]    []  \n",
            "35000     [1.22e-04, 5.10e-05, 8.76e-06]    [8.79e-03, 5.10e-05, 8.76e-06]    []  \n",
            "36000     [4.68e-05, 1.93e-05, 3.69e-06]    [8.71e-03, 1.93e-05, 3.69e-06]    []  \n"
          ]
        }
      ],
      "source": [
        "Dl = D / (P * L**2)\n",
        "\n",
        "#DECLARAÇÃO DOMÍNIO ESPACIAL E TEMPORAL\n",
        "geom = dde.geometry.Interval(0, 1)\n",
        "time = dde.geometry.TimeDomain(0, TF * P)\n",
        "geomtime = dde.geometry.GeometryXTime(geom, time)\n",
        "\n",
        "#EQUAÇÃO RESIDUAL\n",
        "def pde(x, c):\n",
        "\n",
        "    c_t = dde.grad.jacobian(c, x, i=0, j=1)\n",
        "    c_xx = dde.grad.hessian(c, x, i=0, j=0)\n",
        "    return c_t - (Dl * c_xx + c)\n",
        "\n",
        "#CONDIÇÃO INICIAL\n",
        "def ic_func(x): return np.exp(-100 * (x[:, 0:1] - 0.5)**2)\n",
        "IC = dde.icbc.IC(geomtime, ic_func, lambda _, on_initial: on_initial)\n",
        "\n",
        "#CONDIÇÃO DE CONTORNO\n",
        "def bc_func(x): return 0\n",
        "BC = dde.icbc.NeumannBC(geomtime, bc_func, lambda _, on_boundary: on_boundary)\n",
        "\n",
        "#DECLARAÇÃO TREINAMENTO\n",
        "DATA = dde.data.TimePDE(\n",
        "    geomtime,\n",
        "    pde,\n",
        "    [IC, BC],\n",
        "    num_domain = 2_000,\n",
        "    num_boundary = 500,\n",
        "    num_initial = 1_000,\n",
        "    num_test = 1_000\n",
        ")\n",
        "\n",
        "NET = dde.nn.FNN(\n",
        "    [2] + [150] * 3 + [1],\n",
        "    'tanh',\n",
        "    \"Glorot uniform\"\n",
        ")\n",
        "\n",
        "MODEL = dde.Model(DATA, NET)\n",
        "MODEL.compile(\"adam\", lr=1e-3)\n",
        "losshistory, train_state = MODEL.train(\n",
        "    50_000,\n",
        "    #callbacks=[checker]\n",
        ")"
      ]
    },
    {
      "cell_type": "code",
      "source": [
        "import torch\n",
        "\n",
        "X = torch.linspace(0, 1, 1000)\n",
        "T = torch.linspace(0, TF * P, 80)\n",
        "\n",
        "INPUT = torch.cartesian_prod(X, T)\n",
        "OUT = MODEL.predict(INPUT)\n",
        "OUT = OUT.reshape(1000, 80).T\n",
        "\n",
        "fig, ax = plt.subplots()\n",
        "\n",
        "plt.pcolormesh(X * L, T / P, OUT, cmap='jet')\n",
        "plt.title('Murray PINNs')\n",
        "plt.xlabel('x (mm)')\n",
        "plt.ylabel('t (dias)')\n",
        "plt.colorbar()\n",
        "plt.show()\n",
        "\n",
        "plt.savefig('figuras/murray_pinns_3x150x2000.png')"
      ],
      "metadata": {
        "id": "QpV6WrF2qYnl"
      },
      "execution_count": null,
      "outputs": []
    },
    {
      "cell_type": "code",
      "source": [],
      "metadata": {
        "id": "bJVtO6dHnMse"
      },
      "execution_count": null,
      "outputs": []
    }
  ],
  "metadata": {
    "accelerator": "GPU",
    "colab": {
      "gpuType": "T4",
      "provenance": [],
      "authorship_tag": "ABX9TyMnG7O9F3gGIIDS5+77nf4Q"
    },
    "kernelspec": {
      "display_name": "Python 3",
      "name": "python3"
    },
    "language_info": {
      "name": "python"
    }
  },
  "nbformat": 4,
  "nbformat_minor": 0
}